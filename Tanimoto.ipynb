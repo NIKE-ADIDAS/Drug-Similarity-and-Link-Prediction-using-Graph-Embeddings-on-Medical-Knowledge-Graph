{
  "nbformat": 4,
  "nbformat_minor": 0,
  "metadata": {
    "colab": {
      "name": "Tanimoto.ipynb",
      "provenance": []
    },
    "kernelspec": {
      "name": "python3",
      "display_name": "Python 3"
    },
    "language_info": {
      "name": "python"
    }
  },
  "cells": [
    {
      "cell_type": "code",
      "metadata": {
        "colab": {
          "base_uri": "https://localhost:8080/"
        },
        "id": "xzaQ0XG-Cxsc",
        "outputId": "b2787e79-7c5c-452d-ffee-74673caf7d5e"
      },
      "source": [
        "! pip install rdkit-pypi"
      ],
      "execution_count": null,
      "outputs": [
        {
          "output_type": "stream",
          "name": "stdout",
          "text": [
            "Collecting rdkit-pypi\n",
            "  Downloading rdkit_pypi-2021.3.5.1-cp37-cp37m-manylinux_2_17_x86_64.manylinux2014_x86_64.whl (19.7 MB)\n",
            "\u001b[K     |████████████████████████████████| 19.7 MB 1.2 MB/s \n",
            "\u001b[?25hRequirement already satisfied: numpy>=1.19 in /usr/local/lib/python3.7/dist-packages (from rdkit-pypi) (1.19.5)\n",
            "Installing collected packages: rdkit-pypi\n",
            "Successfully installed rdkit-pypi-2021.3.5.1\n"
          ]
        }
      ]
    },
    {
      "cell_type": "code",
      "metadata": {
        "id": "bAVaHMOJC0oL"
      },
      "source": [
        "from rdkit import Chem\n",
        "from rdkit.Chem import AllChem\n",
        "from rdkit import DataStructs"
      ],
      "execution_count": null,
      "outputs": []
    },
    {
      "cell_type": "code",
      "metadata": {
        "id": "RXA0Vz-MC8Mj"
      },
      "source": [
        "def tanimoto_calc(smi1, smi2):\n",
        "    mol1 = Chem.MolFromSmiles(smi1)\n",
        "    mol2 = Chem.MolFromSmiles(smi2)\n",
        "    fp1 = AllChem.GetMorganFingerprintAsBitVect(mol1, 3, nBits=2048)\n",
        "    fp2 = AllChem.GetMorganFingerprintAsBitVect(mol2, 3, nBits=2048)\n",
        "    s = round(DataStructs.TanimotoSimilarity(fp1,fp2),3)\n",
        "    return s"
      ],
      "execution_count": null,
      "outputs": []
    },
    {
      "cell_type": "code",
      "metadata": {
        "colab": {
          "base_uri": "https://localhost:8080/"
        },
        "id": "mY87OXvlDoOq",
        "outputId": "a3b560b9-5cd0-4a6e-ebf7-8e1d3cc5ac62"
      },
      "source": [
        "CHEMBL181454 = 'O=C1C2CCCC2N1Cc1ccccc1'\n",
        "tanimoto_calc(CHEMBL181454,CHEMBL181454)"
      ],
      "execution_count": null,
      "outputs": [
        {
          "output_type": "execute_result",
          "data": {
            "text/plain": [
              "1.0"
            ]
          },
          "metadata": {},
          "execution_count": 4
        }
      ]
    },
    {
      "cell_type": "code",
      "metadata": {
        "colab": {
          "base_uri": "https://localhost:8080/"
        },
        "id": "HsU2CIApEC77",
        "outputId": "494e5fd3-1c3f-4ca7-a2d1-c7dcf2ef4b69"
      },
      "source": [
        "CHEMBL473535 = 'Oc1ccc(Cl)cc1Sc1cc(Cl)ccc1O'\n",
        "tanimoto_calc(CHEMBL473535,CHEMBL181454)"
      ],
      "execution_count": null,
      "outputs": [
        {
          "output_type": "execute_result",
          "data": {
            "text/plain": [
              "0.079"
            ]
          },
          "metadata": {},
          "execution_count": 5
        }
      ]
    },
    {
      "cell_type": "code",
      "metadata": {
        "id": "OvGDvsSyEapR"
      },
      "source": [
        "# Isoflurophate Flurotigmine \n",
        "# KEGG : https://www.kegg.jp/entry/D00043\n",
        "# CHEMBL : https://www.ebi.ac.uk/chembl/compound_report_card/CHEMBL1025/\n",
        "CHEMBL1025 = 'CC(C)OP(=O)(F)OC(C)C'"
      ],
      "execution_count": null,
      "outputs": []
    },
    {
      "cell_type": "code",
      "metadata": {
        "id": "ECfl-ZJYFA5B"
      },
      "source": [
        "# Distigmine bromide\n",
        "# KEGG : https://www.kegg.jp/entry/D01228\n",
        "# CHEMBL : https://www.ebi.ac.uk/chembl/compound_report_card/CHEMBL1098285/\n",
        "CHEMBL1098285 = 'CN(CCCCCCN(C)C(=O)Oc1ccc[n+](C)c1)C(=O)Oc1ccc[n+](C)c1.[Br-].[Br-]'"
      ],
      "execution_count": null,
      "outputs": []
    },
    {
      "cell_type": "code",
      "metadata": {
        "colab": {
          "base_uri": "https://localhost:8080/"
        },
        "id": "Izh6qMmwGDf6",
        "outputId": "bda1bc5c-b6b4-4794-fa07-cd0bef1adb82"
      },
      "source": [
        "tanimoto_calc(CHEMBL1025,CHEMBL1098285)"
      ],
      "execution_count": null,
      "outputs": [
        {
          "output_type": "execute_result",
          "data": {
            "text/plain": [
              "0.049"
            ]
          },
          "metadata": {},
          "execution_count": 9
        }
      ]
    },
    {
      "cell_type": "code",
      "metadata": {
        "colab": {
          "base_uri": "https://localhost:8080/"
        },
        "id": "zsxqyCE5GQQp",
        "outputId": "1176d730-9762-4d68-ca9c-4bce23fc9bcf"
      },
      "source": [
        "# Physostigmine\n",
        "# KEGG : https://www.kegg.jp/entry/D00196\n",
        "# CHEMBL : https://www.ebi.ac.uk/chembl/compound_report_card/CHEMBL94/\n",
        "CHEMBL94 = 'CNC(=O)Oc1ccc2c(c1)[C@]1(C)CCN(C)[C@@H]1N2C'\n",
        "tanimoto_calc(CHEMBL1025,CHEMBL94)"
      ],
      "execution_count": null,
      "outputs": [
        {
          "output_type": "execute_result",
          "data": {
            "text/plain": [
              "0.056"
            ]
          },
          "metadata": {},
          "execution_count": 9
        }
      ]
    },
    {
      "cell_type": "code",
      "metadata": {
        "colab": {
          "base_uri": "https://localhost:8080/"
        },
        "id": "KVsd4acmG7tY",
        "outputId": "8ffc57b8-1931-4406-b856-fb7ffdb0db32"
      },
      "source": [
        "# Icopezil maleate\n",
        "# KEGG : https://www.kegg.jp/entry/D03751\n",
        "# CHEMBL : https://www.ebi.ac.uk/chembl/compound_report_card/CHEMBL329012/\n",
        "CHEMBL329012 = 'O=C(O)/C=C\\C(=O)O.O=C1Cc2cc3c(CCC4CCN(Cc5ccccc5)CC4)noc3cc2N1'\n",
        "tanimoto_calc(CHEMBL1025,CHEMBL329012)"
      ],
      "execution_count": null,
      "outputs": [
        {
          "output_type": "execute_result",
          "data": {
            "text/plain": [
              "0.01"
            ]
          },
          "metadata": {},
          "execution_count": 10
        }
      ]
    },
    {
      "cell_type": "code",
      "metadata": {
        "colab": {
          "base_uri": "https://localhost:8080/"
        },
        "id": "3XmgzcuqILfF",
        "outputId": "92951f30-d1b2-4c7a-96a0-de747a378055"
      },
      "source": [
        "# Physostigmine salicylate\n",
        "# https://www.kegg.jp/entry/D02418\n",
        "# https://www.ebi.ac.uk/chembl/compound_report_card/CHEMBL338975/\n",
        "CHEMBL338975 = 'CNC(=O)Oc1ccc2c(c1)[C@]1(C)CCN(C)[C@@H]1N2C.O=C(O)c1ccccc1O'\n",
        "tanimoto_calc(CHEMBL1025,CHEMBL338975)"
      ],
      "execution_count": null,
      "outputs": [
        {
          "output_type": "execute_result",
          "data": {
            "text/plain": [
              "0.046"
            ]
          },
          "metadata": {},
          "execution_count": 17
        }
      ]
    },
    {
      "cell_type": "code",
      "metadata": {
        "colab": {
          "base_uri": "https://localhost:8080/"
        },
        "id": "rcT1r6pqJJt8",
        "outputId": "022363bd-88df-49e4-e3aa-33da81079c56"
      },
      "source": [
        "# Velnacrine maleate\n",
        "# https://www.kegg.jp/entry/D06288\n",
        "# https://www.ebi.ac.uk/chembl/compound_report_card/CHEMBL23455/\n",
        "CHEMBL23455 = 'Nc1c2c(nc3ccccc13)CCCC2O.O=C(O)/C=C\\C(=O)O'\n",
        "tanimoto_calc(CHEMBL1025,CHEMBL23455)"
      ],
      "execution_count": null,
      "outputs": [
        {
          "output_type": "execute_result",
          "data": {
            "text/plain": [
              "0.014"
            ]
          },
          "metadata": {},
          "execution_count": 18
        }
      ]
    },
    {
      "cell_type": "code",
      "metadata": {
        "colab": {
          "base_uri": "https://localhost:8080/"
        },
        "id": "vNt03yg8L9xa",
        "outputId": "da814d44-9404-4915-ac94-bc7f336be793"
      },
      "source": [
        "# Pralidoxime chloride\n",
        "# https://www.kegg.jp/entry/D00469\n",
        "# https://www.ebi.ac.uk/chembl/compound_report_card/CHEMBL748/\n",
        "CHEMBL748 = 'C[n+]1ccccc1/C=N/O.[Cl-]'\n",
        "tanimoto_calc(CHEMBL1025,CHEMBL748)"
      ],
      "execution_count": null,
      "outputs": [
        {
          "output_type": "execute_result",
          "data": {
            "text/plain": [
              "0.021"
            ]
          },
          "metadata": {},
          "execution_count": 19
        }
      ]
    },
    {
      "cell_type": "code",
      "metadata": {
        "colab": {
          "base_uri": "https://localhost:8080/"
        },
        "id": "8bqT4-dZMaeT",
        "outputId": "a6210f9e-3bb6-4a66-f89a-53a5602d3ad4"
      },
      "source": [
        "# Suronacrine maleate\n",
        "# https://www.kegg.jp/entry/D05981\n",
        "# https://www.ebi.ac.uk/chembl/compound_report_card/CHEMBL2107302/\n",
        "CHEMBL2107302 = 'O=C(O)/C=C\\C(=O)O.OC1CCCc2nc3ccccc3c(NCc3ccccc3)c21'\n",
        "tanimoto_calc(CHEMBL1025,CHEMBL2107302)"
      ],
      "execution_count": null,
      "outputs": [
        {
          "output_type": "execute_result",
          "data": {
            "text/plain": [
              "0.012"
            ]
          },
          "metadata": {},
          "execution_count": 20
        }
      ]
    },
    {
      "cell_type": "code",
      "metadata": {
        "colab": {
          "base_uri": "https://localhost:8080/"
        },
        "id": "BmsRjufqNC4T",
        "outputId": "3fbb43d7-2c0b-4f1e-b6aa-0c3eadfc2678"
      },
      "source": [
        "# Rivastigmine tartrate\n",
        "# https://www.kegg.jp/entry/D02558\n",
        "# https://www.ebi.ac.uk/chembl/compound_report_card/CHEMBL215645/\n",
        "CHEMBL215645 = 'CCN(C)C(=O)Oc1cccc([C@H](C)N(C)C)c1.O=C(O)C(O)C(O)C(=O)O'\n",
        "tanimoto_calc(CHEMBL1025,CHEMBL215645)"
      ],
      "execution_count": null,
      "outputs": [
        {
          "output_type": "execute_result",
          "data": {
            "text/plain": [
              "0.077"
            ]
          },
          "metadata": {},
          "execution_count": 21
        }
      ]
    },
    {
      "cell_type": "code",
      "metadata": {
        "colab": {
          "base_uri": "https://localhost:8080/"
        },
        "id": "kB9wQ7ojNMEr",
        "outputId": "0d16eb5e-3a5b-4799-9e7a-86e5785dfc08"
      },
      "source": [
        "# Physostigmine sulfate\n",
        "# https://www.kegg.jp/entry/D03826\n",
        "# https://www.ebi.ac.uk/chembl/compound_report_card/CHEMBL2105891/\n",
        "CHEMBL2105891 = 'CNC(=O)Oc1ccc2c(c1)[C@]1(C)CCN(C)[C@@H]1N2C.CNC(=O)Oc1ccc2c(c1)[C@]1(C)CCN(C)[C@@H]1N2C.O=S(=O)(O)O'\n",
        "tanimoto_calc(CHEMBL1025,CHEMBL2105891)"
      ],
      "execution_count": null,
      "outputs": [
        {
          "output_type": "execute_result",
          "data": {
            "text/plain": [
              "0.053"
            ]
          },
          "metadata": {},
          "execution_count": 22
        }
      ]
    },
    {
      "cell_type": "code",
      "metadata": {
        "colab": {
          "base_uri": "https://localhost:8080/"
        },
        "id": "P65AOhbiN2aB",
        "outputId": "11048a66-f643-4ec1-ac4b-ca2dd8670c90"
      },
      "source": [
        "# Tacrine hydrochloride\n",
        "# https://www.kegg.jp/entry/D02068\n",
        "# https://www.ebi.ac.uk/chembl/compound_report_card/CHEMBL1677/\n",
        "CHEMBL1677 = 'Cl.Nc1c2c(nc3ccccc13)CCCC2'\n",
        "tanimoto_calc(CHEMBL1025,CHEMBL1677)"
      ],
      "execution_count": null,
      "outputs": [
        {
          "output_type": "execute_result",
          "data": {
            "text/plain": [
              "0.0"
            ]
          },
          "metadata": {},
          "execution_count": 23
        }
      ]
    },
    {
      "cell_type": "markdown",
      "metadata": {
        "id": "TZkj85GrF98w"
      },
      "source": [
        "# Based on Cosine Similarity"
      ]
    },
    {
      "cell_type": "code",
      "metadata": {
        "colab": {
          "base_uri": "https://localhost:8080/"
        },
        "id": "R68S4BZiHpDv",
        "outputId": "e602c93a-5153-4a84-c2b2-d97843cfc1fe"
      },
      "source": [
        "# Rivastigmine tartrate\n",
        "# https://www.kegg.jp/entry/D02558\n",
        "# https://www.ebi.ac.uk/chembl/compound_report_card/CHEMBL215645/\n",
        "CHEMBL215645 = 'CCN(C)C(=O)Oc1cccc([C@H](C)N(C)C)c1.O=C(O)C(O)C(O)C(=O)O'\n",
        "tanimoto_calc(CHEMBL1025,CHEMBL215645)"
      ],
      "execution_count": null,
      "outputs": [
        {
          "output_type": "execute_result",
          "data": {
            "text/plain": [
              "0.077"
            ]
          },
          "metadata": {},
          "execution_count": 11
        }
      ]
    },
    {
      "cell_type": "code",
      "metadata": {
        "colab": {
          "base_uri": "https://localhost:8080/"
        },
        "id": "eJASvSYWIVBg",
        "outputId": "a6778209-ef4b-4ab4-a7c7-e14f20a877e1"
      },
      "source": [
        "# Hexafluorenium bromide\n",
        "# https://www.kegg.jp/entry/D04435\n",
        "# https://www.ebi.ac.uk/chembl/compound_report_card/CHEMBL1200933/\n",
        "CHEMBL1200933 = 'C[N+](C)(CCCCCC[N+](C)(C)C1c2ccccc2-c2ccccc21)C1c2ccccc2-c2ccccc21.[Br-].[Br-]'\n",
        "tanimoto_calc(CHEMBL1025,CHEMBL1200933)"
      ],
      "execution_count": null,
      "outputs": [
        {
          "output_type": "execute_result",
          "data": {
            "text/plain": [
              "0.019"
            ]
          },
          "metadata": {},
          "execution_count": 12
        }
      ]
    },
    {
      "cell_type": "code",
      "metadata": {
        "colab": {
          "base_uri": "https://localhost:8080/"
        },
        "id": "jJvJSEr7GTwm",
        "outputId": "dc7b0bc7-4ce9-40d5-97b5-26b05f645672"
      },
      "source": [
        "# Physostigmine salicylate\n",
        "# https://www.kegg.jp/entry/D02418\n",
        "# https://www.ebi.ac.uk/chembl/compound_report_card/CHEMBL338975/\n",
        "CHEMBL338975 = 'CNC(=O)Oc1ccc2c(c1)[C@]1(C)CCN(C)[C@@H]1N2C.O=C(O)c1ccccc1O'\n",
        "tanimoto_calc(CHEMBL1025,CHEMBL338975)"
      ],
      "execution_count": null,
      "outputs": [
        {
          "output_type": "execute_result",
          "data": {
            "text/plain": [
              "0.046"
            ]
          },
          "metadata": {},
          "execution_count": 13
        }
      ]
    },
    {
      "cell_type": "code",
      "metadata": {
        "colab": {
          "base_uri": "https://localhost:8080/"
        },
        "id": "12heC969Guiu",
        "outputId": "b08a1033-fe2a-4285-cab1-e9440f0fbe48"
      },
      "source": [
        "# Icopezil maleate\n",
        "# https://www.kegg.jp/entry/D03751\n",
        "# https://www.ebi.ac.uk/chembl/compound_report_card/CHEMBL329012/\n",
        "CHEMBL329012 = 'O=C(O)/C=C\\C(=O)O.O=C1Cc2cc3c(CCC4CCN(Cc5ccccc5)CC4)noc3cc2N1'\n",
        "tanimoto_calc(CHEMBL1025,CHEMBL329012)"
      ],
      "execution_count": null,
      "outputs": [
        {
          "output_type": "execute_result",
          "data": {
            "text/plain": [
              "0.01"
            ]
          },
          "metadata": {},
          "execution_count": 14
        }
      ]
    },
    {
      "cell_type": "code",
      "metadata": {
        "colab": {
          "base_uri": "https://localhost:8080/"
        },
        "id": "HiYIra-EHedk",
        "outputId": "f0d877cb-1136-4e4d-b112-d2796363e085"
      },
      "source": [
        "# Physostigmine\n",
        "# KEGG : https://www.kegg.jp/entry/D00196\n",
        "# CHEMBL : https://www.ebi.ac.uk/chembl/compound_report_card/CHEMBL94/\n",
        "CHEMBL94 = 'CNC(=O)Oc1ccc2c(c1)[C@]1(C)CCN(C)[C@@H]1N2C'\n",
        "tanimoto_calc(CHEMBL1025,CHEMBL94)"
      ],
      "execution_count": null,
      "outputs": [
        {
          "output_type": "execute_result",
          "data": {
            "text/plain": [
              "0.056"
            ]
          },
          "metadata": {},
          "execution_count": 15
        }
      ]
    },
    {
      "cell_type": "code",
      "metadata": {
        "colab": {
          "base_uri": "https://localhost:8080/"
        },
        "id": "DXCSLi5LHtS_",
        "outputId": "8d6c4476-8c66-43cf-fecf-1201cc43e243"
      },
      "source": [
        "# Obidoxime chloride\n",
        "# https://www.kegg.jp/entry/D05215\n",
        "# https://www.ebi.ac.uk/chembl/compound_report_card/CHEMBL291233/\n",
        "CHEMBL291233 = 'O/N=C/c1cc[n+](COC[n+]2ccc(/C=N/O)cc2)cc1.[Cl-].[Cl-]'\n",
        "tanimoto_calc(CHEMBL1025,CHEMBL291233)"
      ],
      "execution_count": null,
      "outputs": [
        {
          "output_type": "execute_result",
          "data": {
            "text/plain": [
              "0.02"
            ]
          },
          "metadata": {},
          "execution_count": 16
        }
      ]
    }
  ]
}